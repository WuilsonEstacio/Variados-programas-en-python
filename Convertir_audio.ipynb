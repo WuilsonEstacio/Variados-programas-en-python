{
  "nbformat": 4,
  "nbformat_minor": 0,
  "metadata": {
    "colab": {
      "name": "Convertir audio.ipynb",
      "private_outputs": true,
      "provenance": [],
      "authorship_tag": "ABX9TyPDV4VOTSNFuUmP+kjjGaW9",
      "include_colab_link": true
    },
    "kernelspec": {
      "name": "python3",
      "display_name": "Python 3"
    },
    "language_info": {
      "name": "python"
    }
  },
  "cells": [
    {
      "cell_type": "markdown",
      "metadata": {
        "id": "view-in-github",
        "colab_type": "text"
      },
      "source": [
        "<a href=\"https://colab.research.google.com/github/WuilsonEstacio/Variados-programas-en-python/blob/main/Convertir_audio.ipynb\" target=\"_parent\"><img src=\"https://colab.research.google.com/assets/colab-badge.svg\" alt=\"Open In Colab\"/></a>"
      ]
    },
    {
      "cell_type": "markdown",
      "metadata": {
        "id": "L08Lf6YN4hEm"
      },
      "source": [
        "https://ffmpeg.org/\n",
        "\n",
        "https://pypi.org/project/pydub/\n",
        "\n",
        "\n",
        "FFmpeg es el marco multimedia líder, capaz de decodificar, codificar, transcodificar, mux, demux, transmitir, filtrar y reproducir prácticamente cualquier cosa que los humanos y las máquinas hayan creado. Admite los formatos antiguos más oscuros hasta la vanguardia. No importa si fueron diseñados por algún comité de estándares, la comunidad o una corporación. También es altamente portátil: FFmpeg compila, ejecuta y pasa nuestra infraestructura de prueba FATE en Linux, Mac OS X, Microsoft Windows, BSD, Solaris, etc.en una amplia variedad de entornos de construcción, arquitecturas de máquinas y configuraciones."
      ]
    },
    {
      "cell_type": "code",
      "metadata": {
        "id": "p--VQh_65BlQ"
      },
      "source": [
        "!git clone https://git.ffmpeg.org/ffmpeg.git ffmpeg # clonando git"
      ],
      "execution_count": null,
      "outputs": []
    },
    {
      "cell_type": "code",
      "metadata": {
        "id": "0iLrDOu94Y7n"
      },
      "source": [
        "pip install ffmpeg"
      ],
      "execution_count": null,
      "outputs": []
    },
    {
      "cell_type": "code",
      "metadata": {
        "id": "KlZPD7hi4eut"
      },
      "source": [
        "pip install pydub # Manipulate audio with an simple and easy high level interface."
      ],
      "execution_count": null,
      "outputs": []
    },
    {
      "cell_type": "code",
      "metadata": {
        "id": "sogEmy8O6E8Y"
      },
      "source": [
        "# convertir el audio / video usando FFmpeg\n",
        "ffmpeg -i input_audio.wav output_audio.mp3"
      ],
      "execution_count": null,
      "outputs": []
    },
    {
      "cell_type": "code",
      "metadata": {
        "id": "Ff-CCPv26VWv"
      },
      "source": [
        "\n",
        "# Incluso un video mp4 se puede convertir a cualquiera de los formatos de audio\n",
        "# -b: a : tasa de bits de audio\n",
        "# Opcional y se usa para mencionar una tasa de bits de audio en particular.\n",
        "# El audio de salida se codificará con la tasa de bits de audio dada.\n",
        "# -vn : deshabilitar video\n",
        "\n",
        "ffmpeg -i input_video.mp4 -b:a 192K -vn output_audio.mp3"
      ],
      "execution_count": null,
      "outputs": []
    },
    {
      "cell_type": "code",
      "metadata": {
        "id": "fVHdHhnW7QuZ"
      },
      "source": [
        "from pydub import AudioSegment\n",
        "\n",
        "given_audio = AudioSegment.from_file(\"path/to/input_audio.mp4\", format=\"mp4\")                                                \n",
        "# or\n",
        "given_audio = AudioSegment.from_file(\"path/to/input_audio.mp3\", format=\"mp3\")\n",
        "# or\n",
        "given_audio = AudioSegment.from_file(\"path/to/input_audio.wav\", format=\"wav\")\n",
        "# or\n",
        "raw_audio = AudioSegment.from_file(\"path/to/input_audio.wav\", format=\"raw\", frame_rate=44100, channels=2, sample_width=2) \n",
        "# The above line of code is simply building the ffmpeg command from \n",
        "# the parameters and executing it in the background as a process.\n",
        "\n",
        "given_audio.export(\"path/to/output_audio.mp3\", format=\"mp3\")\n",
        "# or\n",
        "given_audio.export(\"path/to/output_audio.wav\", format=\"wav\")\n",
        "# or\n",
        "given_audio.export(\"output_audio.wav\", format=\"wav\") # file will be saved in the current working directory\n"
      ],
      "execution_count": null,
      "outputs": []
    },
    {
      "cell_type": "markdown",
      "metadata": {
        "id": "U23Y45nw73LX"
      },
      "source": [
        "¡Convertido el formato de audio !. Puede encontrar el archivo de audio convertido en la ruta que se pasa al método de exportación.\n",
        "\n",
        "Se pueden hacer las mismas cosas pasando el comando ffmpeg al subproceso de Python. Pero puede ser difícil para los principiantes. pydub manejará la generación del comando ffmpeg y las partes del subproceso por usted"
      ]
    }
  ]
}