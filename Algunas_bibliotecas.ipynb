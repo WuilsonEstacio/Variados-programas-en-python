{
  "nbformat": 4,
  "nbformat_minor": 0,
  "metadata": {
    "colab": {
      "name": "Algunas bibliotecas.ipynb",
      "provenance": [],
      "collapsed_sections": [],
      "authorship_tag": "ABX9TyPWHkIKg27NY/fZYowp2Bsa",
      "include_colab_link": true
    },
    "kernelspec": {
      "name": "python3",
      "display_name": "Python 3"
    }
  },
  "cells": [
    {
      "cell_type": "markdown",
      "metadata": {
        "id": "view-in-github",
        "colab_type": "text"
      },
      "source": [
        "<a href=\"https://colab.research.google.com/github/WuilsonEstacio/Variados-programas-en-python/blob/main/Algunas_bibliotecas.ipynb\" target=\"_parent\"><img src=\"https://colab.research.google.com/assets/colab-badge.svg\" alt=\"Open In Colab\"/></a>"
      ]
    },
    {
      "cell_type": "code",
      "metadata": {
        "id": "PzpE-ij9oSFi"
      },
      "source": [
        "import requests\n",
        "from bs4 import BeautifulSoup\n",
        "import csv\n",
        "from datetime import datetime"
      ],
      "execution_count": null,
      "outputs": []
    },
    {
      "cell_type": "code",
      "metadata": {
        "id": "nB_GcAhCoXMZ"
      },
      "source": [
        "import numpy as np\n",
        "import pandas as pd\n",
        "import seaborn as sb\n",
        "import matplotlib.pyplot as plt\n",
        "%matplotlib inline\n",
        "plt.rcParams['figure.figsize'] = (16, 9)\n",
        "plt.style.use('ggplot')\n",
        "from sklearn import tree\n",
        "from sklearn.metrics import accuracy_score\n",
        "from sklearn.model_selection import KFold\n",
        "from sklearn.model_selection import cross_val_score\n",
        "from IPython.display import Image as PImage\n",
        "from subprocess import check_call\n",
        "from PIL import Image, ImageDraw, ImageFont\n",
        "from sklearn.cluster import KMeans\n",
        "from sklearn.neighbors import KNeighborsRegressor\n",
        "from sklearn import svm\n",
        "import tensorflow as tf\n",
        "from sklearn.tree import DecisionTreeClassifier\n",
        "from sklearn import tree\n",
        "from sklearn.linear_model import LogisticRegression\n",
        "from sklearn.linear_model import LinearRegression\n",
        "from sklearn.datasets import make_classification\n",
        "from sklearn import datasets\n",
        "\n",
        "from sklearn.decomposition import KernelPCA\n",
        "from sklearn.linear_model import LogisticRegression # clasificador linear\n",
        "from sklearn.linear_model import Lasso\n",
        "from sklearn.linear_model import Ridge\n",
        "\n",
        "from sklearn.decomposition import PCA\n",
        "from sklearn.decomposition import IncrementalPCA\n",
        " \n",
        "\n",
        "# utilidades para preparar datos antes de enviar a entrenamiento \n",
        "from sklearn.preprocessing import StandardScaler # StandardScaler sive para normalizar nuestros datos osea  para que esten en la misma escala\n",
        "from sklearn.model_selection import train_test_split # para poder partir nuestros datos\n",
        "\n",
        "from sklearn.linear_model import (RANSACRegressor, HuberRegressor)\n",
        "\n",
        "from sklearn.svm import SVR # para comparar el resultado con\n",
        "# con un modelo de maquina de soporte vectorial como el SVR  Suport Vector Regresor\n",
        "# maquina de soporte vectorial\n",
        "\n",
        "from sklearn.model_selection import train_test_split\n",
        "from sklearn.metrics  import mean_squared_error # metrica para medir"
      ],
      "execution_count": null,
      "outputs": []
    }
  ]
}