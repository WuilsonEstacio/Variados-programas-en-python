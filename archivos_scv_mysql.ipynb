{
  "nbformat": 4,
  "nbformat_minor": 0,
  "metadata": {
    "colab": {
      "name": "archivos scv-mysql.ipynb",
      "provenance": [],
      "collapsed_sections": [],
      "authorship_tag": "ABX9TyOkqCWDM4DlV49cXdUm4pnb",
      "include_colab_link": true
    },
    "kernelspec": {
      "name": "python3",
      "display_name": "Python 3"
    },
    "language_info": {
      "name": "python"
    }
  },
  "cells": [
    {
      "cell_type": "markdown",
      "metadata": {
        "id": "view-in-github",
        "colab_type": "text"
      },
      "source": [
        "<a href=\"https://colab.research.google.com/github/WuilsonEstacio/Variados-programas-en-python/blob/main/archivos_scv_mysql.ipynb\" target=\"_parent\"><img src=\"https://colab.research.google.com/assets/colab-badge.svg\" alt=\"Open In Colab\"/></a>"
      ]
    },
    {
      "cell_type": "markdown",
      "metadata": {
        "id": "uYkU6UOYQ5k8"
      },
      "source": [
        "crear archivos csv\n",
        "\n",
        "los paquetes almacenan modulos"
      ]
    },
    {
      "cell_type": "code",
      "metadata": {
        "id": "3Ga5hisVQz-Q"
      },
      "source": [
        "# estamos creando un archivo. csv\n",
        "import csv\n",
        "\n",
        "doc = open('archivoW.csv','w') # se abre el archivo\n",
        "\n",
        "doc_csv_w=csv.writer(doc)\n",
        "\n",
        "lista = [['Pedro', 99836],['Uno',1000],['Dos', 2000], ['Tres', 3000], ['Cuatro',40000]]\n",
        "\n",
        "doc_csv_w.writerows(lista) # aqui escribimos por filas porqu utilizamos writerow\n",
        "doc.close() # se debe cerrar el archivo"
      ],
      "execution_count": null,
      "outputs": []
    },
    {
      "cell_type": "code",
      "metadata": {
        "colab": {
          "base_uri": "https://localhost:8080/",
          "height": 214
        },
        "id": "4LoNeUh5Q-jz",
        "outputId": "0a75f29f-91da-473f-d211-7b231c5bc0a3"
      },
      "source": [
        "# estamos creando un archivo. csv\n",
        "import csv\n",
        "\n",
        "doc = open('archivoW1.csv','w') # se abre el archivo\n",
        "\n",
        "doc_csv_w=csv.writer(doc)\n",
        "\n",
        "lista = [['Pedro', 99836],['Uno',1000],['Dos', 2000], ['Tres', 3000], ['Cuatro',40000]]\n",
        "\n",
        "for x in lista:\n",
        "  doc_csv_w.writerows(x) # aqui escribimos por filas porqu utilizamos writerow\n",
        "doc.close() # se debe cerrar el archivo"
      ],
      "execution_count": null,
      "outputs": [
        {
          "output_type": "error",
          "ename": "Error",
          "evalue": "ignored",
          "traceback": [
            "\u001b[0;31m---------------------------------------------------------------------------\u001b[0m",
            "\u001b[0;31mError\u001b[0m                                     Traceback (most recent call last)",
            "\u001b[0;32m<ipython-input-2-0f5356cb4da3>\u001b[0m in \u001b[0;36m<module>\u001b[0;34m()\u001b[0m\n\u001b[1;32m      9\u001b[0m \u001b[0;34m\u001b[0m\u001b[0m\n\u001b[1;32m     10\u001b[0m \u001b[0;32mfor\u001b[0m \u001b[0mx\u001b[0m \u001b[0;32min\u001b[0m \u001b[0mlista\u001b[0m\u001b[0;34m:\u001b[0m\u001b[0;34m\u001b[0m\u001b[0;34m\u001b[0m\u001b[0m\n\u001b[0;32m---> 11\u001b[0;31m   \u001b[0mdoc_csv_w\u001b[0m\u001b[0;34m.\u001b[0m\u001b[0mwriterows\u001b[0m\u001b[0;34m(\u001b[0m\u001b[0mx\u001b[0m\u001b[0;34m)\u001b[0m \u001b[0;31m# aqui escribimos por filas porqu utilizamos writerow\u001b[0m\u001b[0;34m\u001b[0m\u001b[0;34m\u001b[0m\u001b[0m\n\u001b[0m\u001b[1;32m     12\u001b[0m \u001b[0mdoc\u001b[0m\u001b[0;34m.\u001b[0m\u001b[0mclose\u001b[0m\u001b[0;34m(\u001b[0m\u001b[0;34m)\u001b[0m \u001b[0;31m# se debe cerrar el archivo\u001b[0m\u001b[0;34m\u001b[0m\u001b[0;34m\u001b[0m\u001b[0m\n",
            "\u001b[0;31mError\u001b[0m: iterable expected, not int"
          ]
        }
      ]
    },
    {
      "cell_type": "markdown",
      "metadata": {
        "id": "w9CbLTmXRDNM"
      },
      "source": [
        "MySQL"
      ]
    },
    {
      "cell_type": "code",
      "metadata": {
        "id": "Cp2tuB0YRD3A"
      },
      "source": [
        "import myslq.connector\n",
        "con = mysql.connector.connect(user =\"root\",password = \"\" , host = \"192.168.0.1\", database = \"bdpython\")\n",
        "cusor = con.cursor()\n",
        "cursor.execute('CREATE TABLE example (id INT.data VARCHAR(124)); ')\n",
        "con.close()"
      ],
      "execution_count": null,
      "outputs": []
    },
    {
      "cell_type": "code",
      "metadata": {
        "id": "EomeikMERGOi"
      },
      "source": [
        "import mysql.connector\n",
        "\n",
        "con = mysql.connector.connect(user =\"root\",password = \"\" , host = \"127.0.0.1\", database = \"bdpython\")\n",
        "cusor = con.cursor()\n",
        "cursor.execute(\"INSERT INTO example (id,data) VALUES ('9', 'dato' ) \")\n",
        "\n",
        "con.commit()\n",
        "con.close()"
      ],
      "execution_count": null,
      "outputs": []
    },
    {
      "cell_type": "markdown",
      "metadata": {
        "id": "-5unJ8xzRKsv"
      },
      "source": [
        "leer datos de MySQL"
      ]
    },
    {
      "cell_type": "code",
      "metadata": {
        "id": "2o6MURUpRLfs"
      },
      "source": [
        "import mysql.connector\n",
        "\n",
        "con = mysql.connector.connect(user =\"root\",password = \"\" , host = \"127.0.0.1\", database = \"bdpython\")\n",
        "\n",
        "cursor = con.cursor()\n",
        "cursor.execute(\"SELECT * FROM 'example' WHERE 'id'= 9  \")\n",
        "rows = cursor.fetchall()\n",
        "\n",
        "for row in rows:\n",
        "  print(row)\n",
        "cursor.close()\n",
        "con.close()"
      ],
      "execution_count": null,
      "outputs": []
    }
  ]
}