{
  "nbformat": 4,
  "nbformat_minor": 0,
  "metadata": {
    "colab": {
      "name": "funciones y tiempos.ipynb",
      "provenance": [],
      "collapsed_sections": [],
      "authorship_tag": "ABX9TyNPy5h7cOe/jbNty9QjlRxu",
      "include_colab_link": true
    },
    "kernelspec": {
      "name": "python3",
      "display_name": "Python 3"
    }
  },
  "cells": [
    {
      "cell_type": "markdown",
      "metadata": {
        "id": "view-in-github",
        "colab_type": "text"
      },
      "source": [
        "<a href=\"https://colab.research.google.com/github/WuilsonEstacio/Variados-programas-en-python/blob/main/funciones_y_tiempos.ipynb\" target=\"_parent\"><img src=\"https://colab.research.google.com/assets/colab-badge.svg\" alt=\"Open In Colab\"/></a>"
      ]
    },
    {
      "cell_type": "code",
      "metadata": {
        "id": "ioLvvI8_95Mr",
        "colab": {
          "base_uri": "https://localhost:8080/",
          "height": 136
        },
        "outputId": "8879ce39-00de-4ef0-a328-786c3c6a8306"
      },
      "source": [
        "import time as t\n",
        "import math\n",
        "\n",
        "def f(x):\n",
        "  f = x**6 + 1\n",
        "  return f \n",
        "\n",
        "print(\"tipo de f\", type(f), \"and f(3) =\", f(3))\n",
        "\n",
        "def function_time(f,*args): # evalua el tiempo de ejecucion de la f(x) imprimirse \n",
        "  start_time=t.time()\n",
        "  result=f(*args)\n",
        "  end_time=t.time()\n",
        "  print(\"tiempo de ejecucion\", end_time-start_time, \"milisegundos\")\n",
        "  return result\n",
        "\n",
        "print(\"f(5) =\", function_time(f,5)) #evelia la funcion en 5\n",
        "print(\"f(7) =\", function_time(f,7))\n",
        "print(\"f(9) =\", function_time(f,9))"
      ],
      "execution_count": null,
      "outputs": [
        {
          "output_type": "stream",
          "text": [
            "tipo de f <class 'function'> and f(3) = 730\n",
            "tiempo de ejecucion 2.1457672119140625e-06 milisegundos\n",
            "f(5) = 15626\n",
            "tiempo de ejecucion 2.1457672119140625e-06 milisegundos\n",
            "f(7) = 117650\n",
            "tiempo de ejecucion 1.9073486328125e-06 milisegundos\n",
            "f(9) = 531442\n"
          ],
          "name": "stdout"
        }
      ]
    },
    {
      "cell_type": "code",
      "metadata": {
        "id": "LB-8k0cMfvDR",
        "colab": {
          "base_uri": "https://localhost:8080/",
          "height": 85
        },
        "outputId": "bda18813-3579-493e-b84e-d7be00eff14e"
      },
      "source": [
        " # Midiendo cadenas de texto\n",
        "palabras = ['gato', 'ventana', 'defenestrado', 'ganado']  # hace una copia por rebanada de toda la lista\n",
        "for p in palabras:\n",
        "  print(p, len(p))"
      ],
      "execution_count": null,
      "outputs": [
        {
          "output_type": "stream",
          "text": [
            "gato 4\n",
            "ventana 7\n",
            "defenestrado 12\n",
            "ganado 6\n"
          ],
          "name": "stdout"
        }
      ]
    },
    {
      "cell_type": "code",
      "metadata": {
        "id": "_C47tCnzmHLD",
        "colab": {
          "base_uri": "https://localhost:8080/",
          "height": 187
        },
        "outputId": "79579afb-32b2-4b7f-ec08-43f5b3527bd7"
      },
      "source": [
        "# tabla de multiplicar\n",
        "def tabla_multiplicar(numero):\n",
        "#\"imprime la tabla de multiplicar\"\n",
        "  for indice in [1,2,3,4,5,6,7,8,9,10,11,12]:\n",
        "    print(f\"{numero}*{indice}={numero*indice}\")\n",
        "\n",
        "tabla_multiplicar(6)\n",
        "\n"
      ],
      "execution_count": null,
      "outputs": [
        {
          "output_type": "stream",
          "text": [
            "6*1=6\n",
            "6*2=12\n",
            "6*3=18\n",
            "6*4=24\n",
            "6*5=30\n",
            "6*6=36\n",
            "6*7=42\n",
            "6*8=48\n",
            "6*9=54\n",
            "6*10=60\n"
          ],
          "name": "stdout"
        }
      ]
    },
    {
      "cell_type": "code",
      "metadata": {
        "id": "I8PGKf1kAjWK",
        "colab": {
          "base_uri": "https://localhost:8080/",
          "height": 367
        },
        "outputId": "26f7a245-f1aa-4912-fadd-77463c83c189"
      },
      "source": [
        "from pymc import DiscreteUniform, Exponential, deterministic, Poisson, Uniform\n",
        "import numpy as np\n",
        "\n",
        "disasters_array =   \\\n",
        "     np.array([ 4, 5, 4, 0, 1, 4, 3, 4, 0, 6, 3, 3, 4, 0, 2, 6,\n",
        "                   3, 3, 5, 4, 5, 3, 1, 4, 4, 1, 5, 5, 3, 4, 2, 5,\n",
        "                   2, 2, 3, 4, 2, 1, 3, 2, 2, 1, 1, 1, 1, 3, 0, 0,\n",
        "                   1, 0, 1, 1, 0, 0, 3, 1, 0, 3, 2, 2, 0, 1, 1, 1,\n",
        "                   0, 1, 0, 1, 0, 0, 0, 2, 1, 0, 0, 0, 1, 1, 0, 2,\n",
        "                   3, 3, 1, 1, 2, 1, 1, 1, 1, 2, 4, 2, 0, 0, 1, 4,\n",
        "                   0, 0, 0, 1, 0, 0, 0, 0, 0, 1, 0, 0, 1, 0, 1])\n",
        "     \n",
        "switchpoint = DiscreteUniform('switchpoint', lower=0, upper=110, doc='Switchpoint[year]') \n",
        "\n",
        "early_mean = Exponential('early_mean', beta=1.)\n",
        "late_mean = Exponential('late_mean', beta=1.)\n",
        "\n",
        "@deterministic(plot=False)\n",
        "def rate(s=switchpoint, e=early_mean, l=late_mean):\n",
        "    ''' Concatenate Poisson means '''\n",
        "    out = np.empty(len(disasters_array))\n",
        "    out[:s] = e\n",
        "    out[s:] = l\n",
        "    return out\n",
        "\n",
        "disasters = Poisson('disasters', mu=rate, value=disasters_array, observed=True)"
      ],
      "execution_count": null,
      "outputs": [
        {
          "output_type": "error",
          "ename": "ModuleNotFoundError",
          "evalue": "ignored",
          "traceback": [
            "\u001b[0;31m---------------------------------------------------------------------------\u001b[0m",
            "\u001b[0;31mModuleNotFoundError\u001b[0m                       Traceback (most recent call last)",
            "\u001b[0;32m<ipython-input-60-079ba40a9a8b>\u001b[0m in \u001b[0;36m<module>\u001b[0;34m()\u001b[0m\n\u001b[0;32m----> 1\u001b[0;31m \u001b[0;32mfrom\u001b[0m \u001b[0mpymc\u001b[0m \u001b[0;32mimport\u001b[0m \u001b[0mDiscreteUniform\u001b[0m\u001b[0;34m,\u001b[0m \u001b[0mExponential\u001b[0m\u001b[0;34m,\u001b[0m \u001b[0mdeterministic\u001b[0m\u001b[0;34m,\u001b[0m \u001b[0mPoisson\u001b[0m\u001b[0;34m,\u001b[0m \u001b[0mUniform\u001b[0m\u001b[0;34m\u001b[0m\u001b[0;34m\u001b[0m\u001b[0m\n\u001b[0m\u001b[1;32m      2\u001b[0m \u001b[0;32mimport\u001b[0m \u001b[0mnumpy\u001b[0m \u001b[0;32mas\u001b[0m \u001b[0mnp\u001b[0m\u001b[0;34m\u001b[0m\u001b[0;34m\u001b[0m\u001b[0m\n\u001b[1;32m      3\u001b[0m \u001b[0;34m\u001b[0m\u001b[0m\n\u001b[1;32m      4\u001b[0m disasters_array =        np.array([ 4, 5, 4, 0, 1, 4, 3, 4, 0, 6, 3, 3, 4, 0, 2, 6,\n\u001b[1;32m      5\u001b[0m                    \u001b[0;36m3\u001b[0m\u001b[0;34m,\u001b[0m \u001b[0;36m3\u001b[0m\u001b[0;34m,\u001b[0m \u001b[0;36m5\u001b[0m\u001b[0;34m,\u001b[0m \u001b[0;36m4\u001b[0m\u001b[0;34m,\u001b[0m \u001b[0;36m5\u001b[0m\u001b[0;34m,\u001b[0m \u001b[0;36m3\u001b[0m\u001b[0;34m,\u001b[0m \u001b[0;36m1\u001b[0m\u001b[0;34m,\u001b[0m \u001b[0;36m4\u001b[0m\u001b[0;34m,\u001b[0m \u001b[0;36m4\u001b[0m\u001b[0;34m,\u001b[0m \u001b[0;36m1\u001b[0m\u001b[0;34m,\u001b[0m \u001b[0;36m5\u001b[0m\u001b[0;34m,\u001b[0m \u001b[0;36m5\u001b[0m\u001b[0;34m,\u001b[0m \u001b[0;36m3\u001b[0m\u001b[0;34m,\u001b[0m \u001b[0;36m4\u001b[0m\u001b[0;34m,\u001b[0m \u001b[0;36m2\u001b[0m\u001b[0;34m,\u001b[0m \u001b[0;36m5\u001b[0m\u001b[0;34m,\u001b[0m\u001b[0;34m\u001b[0m\u001b[0;34m\u001b[0m\u001b[0m\n",
            "\u001b[0;31mModuleNotFoundError\u001b[0m: No module named 'pymc'",
            "",
            "\u001b[0;31m---------------------------------------------------------------------------\u001b[0;32m\nNOTE: If your import is failing due to a missing package, you can\nmanually install dependencies using either !pip or !apt.\n\nTo view examples of installing some common dependencies, click the\n\"Open Examples\" button below.\n\u001b[0;31m---------------------------------------------------------------------------\u001b[0m\n"
          ]
        }
      ]
    }
  ]
}