{
  "nbformat": 4,
  "nbformat_minor": 0,
  "metadata": {
    "colab": {
      "name": "Copia de Copia de tarea2,3,4,5,6coursera.ipynb",
      "provenance": [],
      "collapsed_sections": [],
      "include_colab_link": true
    },
    "kernelspec": {
      "name": "python3",
      "display_name": "Python 3"
    }
  },
  "cells": [
    {
      "cell_type": "markdown",
      "metadata": {
        "id": "view-in-github",
        "colab_type": "text"
      },
      "source": [
        "<a href=\"https://colab.research.google.com/github/WuilsonEstacio/Variados-programas-en-python/blob/main/Copia_de_Copia_de_tarea2%2C3%2C4%2C5%2C6coursera.ipynb\" target=\"_parent\"><img src=\"https://colab.research.google.com/assets/colab-badge.svg\" alt=\"Open In Colab\"/></a>"
      ]
    },
    {
      "cell_type": "code",
      "metadata": {
        "id": "K3mDCzpKZAnJ",
        "colab": {
          "base_uri": "https://localhost:8080/",
          "height": 102
        },
        "outputId": "07597cd4-2b0e-4bf2-a1a8-7f4439571b6b"
      },
      "source": [
        "#tarea 2 de coursera python\n",
        "# hacer un .txt en el que únicamente aparezca el resultado:\n",
        "x=1\n",
        "print(x)\n",
        "x+=3\n",
        "print(x)\n",
        "x=2*x\n",
        "print(x)\n",
        "y=x/3\n",
        "print(y)\n",
        "z=x-y\n",
        "print(\"z=\",z)"
      ],
      "execution_count": null,
      "outputs": [
        {
          "output_type": "stream",
          "text": [
            "1\n",
            "4\n",
            "8\n",
            "2.6666666666666665\n",
            "z= 5.333333333333334\n"
          ],
          "name": "stdout"
        }
      ]
    },
    {
      "cell_type": "code",
      "metadata": {
        "id": "wk6s4rwwkIvg",
        "colab": {
          "base_uri": "https://localhost:8080/",
          "height": 51
        },
        "outputId": "511d694c-3a13-4bfc-fc54-5ee296d1193d"
      },
      "source": [
        "nombre = input(\"ingrese su nombre = \")\n",
        "print(\"hola\", nombre)"
      ],
      "execution_count": null,
      "outputs": [
        {
          "output_type": "stream",
          "text": [
            "ingrese su nombre = paola\n",
            "hola paola\n"
          ],
          "name": "stdout"
        }
      ]
    },
    {
      "cell_type": "code",
      "metadata": {
        "id": "iFLwSN9NlRI7",
        "colab": {
          "base_uri": "https://localhost:8080/",
          "height": 102
        },
        "outputId": "199ae4c0-b685-4f21-f8ee-48c3d14ac1ae"
      },
      "source": [
        "a= input(\"ingrese un numero = \")\n",
        "b= input(\"ingrese otro numero = \")\n",
        "a=int(a)\n",
        "b=int(b)\n",
        "c=a+b\n",
        "d=a*b\n",
        "m=a-b, b-a\n",
        "print(\"la suma de los numero ingresados es c =\",c)\n",
        "print(\"la multiplicacion de los numeros es d =\",d)\n",
        "print(\"la resta de los numeros es m= a-b, b-a =\",m)"
      ],
      "execution_count": null,
      "outputs": [
        {
          "output_type": "stream",
          "text": [
            "ingrese un numero = 5\n",
            "ingrese otro numero = 6\n",
            "la suma de los numero ingresados es c = 11\n",
            "la multiplicacion de los numeros es d = 30\n",
            "la resta de los numeros es m= a-b, b-a = (-1, 1)\n"
          ],
          "name": "stdout"
        }
      ]
    },
    {
      "cell_type": "code",
      "metadata": {
        "id": "mMlEkmdX0ZqO",
        "colab": {
          "base_uri": "https://localhost:8080/",
          "height": 68
        },
        "outputId": "7555beec-b894-419a-87c3-05992d1c2e10"
      },
      "source": [
        "# tarea 3 de coursera python\n",
        "a,b = input(\"ingrese un numero = \"), input(\"ingrese otro numero = \")\n",
        "a,b=int(a),int(b)\n",
        "d=a*b\n",
        "print(\"la multiplicacion de los numeros es d =\",d)"
      ],
      "execution_count": null,
      "outputs": [
        {
          "output_type": "stream",
          "text": [
            "ingrese un numero = 6\n",
            "ingrese otro numero = 7\n",
            "la multiplicacion de los numeros es d = 42\n"
          ],
          "name": "stdout"
        }
      ]
    },
    {
      "cell_type": "code",
      "metadata": {
        "id": "NwNxo8JS5xmS",
        "colab": {
          "base_uri": "https://localhost:8080/",
          "height": 34
        },
        "outputId": "322c42ae-ba05-4502-da0d-1422dcf9f8cf"
      },
      "source": [
        "type(8), type(10.5), type(True), type(\"hola\"), type(3+4j)"
      ],
      "execution_count": null,
      "outputs": [
        {
          "output_type": "execute_result",
          "data": {
            "text/plain": [
              "(int, float, bool, str, complex)"
            ]
          },
          "metadata": {
            "tags": []
          },
          "execution_count": 17
        }
      ]
    },
    {
      "cell_type": "code",
      "metadata": {
        "id": "WMOIzetxh6b9",
        "colab": {
          "base_uri": "https://localhost:8080/",
          "height": 51
        },
        "outputId": "267aeb60-8df8-44ec-8143-c6e9a44be6cb"
      },
      "source": [
        "# tarea 4 de coursera python\n",
        "\n",
        "a = 1\n",
        "b = 2\n",
        "a += b\n",
        "b *= 2\n",
        "a,b = a*b, a+b\n",
        "print(\"a, =\", a)\n",
        "print(\"b, =\", b)\n"
      ],
      "execution_count": null,
      "outputs": [
        {
          "output_type": "stream",
          "text": [
            "a, = 12\n",
            "b, = 7\n"
          ],
          "name": "stdout"
        }
      ]
    },
    {
      "cell_type": "code",
      "metadata": {
        "id": "N6kz7LRxLsrU",
        "colab": {
          "base_uri": "https://localhost:8080/",
          "height": 34
        },
        "outputId": "eb87c45d-868d-4d7a-f6fb-96311262e0a4"
      },
      "source": [
        "# tarea 5 de coursera python \n",
        "# hacer un .txt en el que únicamente aparezca el resultado:\n",
        "import math\n",
        "a=2\n",
        "b=3\n",
        "math.hypot(a,b)"
      ],
      "execution_count": null,
      "outputs": [
        {
          "output_type": "execute_result",
          "data": {
            "text/plain": [
              "3.605551275463989"
            ]
          },
          "metadata": {
            "tags": []
          },
          "execution_count": 26
        }
      ]
    },
    {
      "cell_type": "code",
      "metadata": {
        "id": "renhZdgINwmn",
        "colab": {
          "base_uri": "https://localhost:8080/",
          "height": 34
        },
        "outputId": "350c7061-b669-4595-efbe-e04012973dbc"
      },
      "source": [
        "print(2==4 and 3==3)"
      ],
      "execution_count": null,
      "outputs": [
        {
          "output_type": "stream",
          "text": [
            "False\n"
          ],
          "name": "stdout"
        }
      ]
    },
    {
      "cell_type": "code",
      "metadata": {
        "id": "lTa79mKynwPb",
        "colab": {
          "base_uri": "https://localhost:8080/",
          "height": 34
        },
        "outputId": "5385f2e7-12c9-40fc-ee21-bb3fa99c50ae"
      },
      "source": [
        "# tarea 6 de coursera python\n",
        "3 > 4 < 5 and 3 < 2 or 2 != 4 and 4 == 2 + 2 or not True"
      ],
      "execution_count": null,
      "outputs": [
        {
          "output_type": "execute_result",
          "data": {
            "text/plain": [
              "True"
            ]
          },
          "metadata": {
            "tags": []
          },
          "execution_count": 48
        }
      ]
    },
    {
      "cell_type": "code",
      "metadata": {
        "id": "JAICNKiy7bRJ",
        "colab": {
          "base_uri": "https://localhost:8080/",
          "height": 51
        },
        "outputId": "7adfd8b0-6e22-414d-a468-d71c0ecd8abb"
      },
      "source": [
        "# tarea 7 de coursera python\n",
        "x = 1+4*3+8/2*4+5**2\n",
        "print(int(x))\n",
        "if x%2 == 0:\n",
        "  print(\"el # es par y x =\", int(x+1))\n",
        "elif x%2 != 0:\n",
        "  print(\"el numero es impar y x =\", int(x+2))"
      ],
      "execution_count": null,
      "outputs": [
        {
          "output_type": "stream",
          "text": [
            "54\n",
            "el # es par y x = 55\n"
          ],
          "name": "stdout"
        }
      ]
    },
    {
      "cell_type": "code",
      "metadata": {
        "id": "Ui3qD7W5HS21",
        "colab": {
          "base_uri": "https://localhost:8080/",
          "height": 51
        },
        "outputId": "95a7eaf6-6352-4441-968b-8046f2b0c561"
      },
      "source": [
        "# tarea 8 de coursera python\n",
        "# creo que pide la sumatoria de las series de fibonaci hasta 35:\n",
        "#debe dar 9227465\n",
        "def fib(n):\n",
        "    a, b = 0, 1\n",
        "    while a < n:\n",
        "        print(a, end=' ')\n",
        "        a, b = b, a+b\n",
        "    print()\n",
        "fib(35)\n",
        "fib(34)\n",
        "\n"
      ],
      "execution_count": null,
      "outputs": [
        {
          "output_type": "stream",
          "text": [
            "0 1 1 2 3 5 8 13 21 34 \n",
            "0 1 1 2 3 5 8 13 21 \n"
          ],
          "name": "stdout"
        }
      ]
    },
    {
      "cell_type": "code",
      "metadata": {
        "id": "3x_530LlVIQA",
        "colab": {
          "base_uri": "https://localhost:8080/",
          "height": 34
        },
        "outputId": "3d118789-7e60-4cf6-e7ce-4565a1fb613d"
      },
      "source": [
        "# tarea 8 de coursera python\n",
        "# creo que pide la sumatoria de las series de fibonaci hasta 35:\n",
        "#debe dar 9227465\n",
        "def fib(n):\n",
        "    if n < 2:\n",
        "        return n\n",
        "    else:\n",
        "        # fn = fn-1 + fn-2\n",
        "        return fib(n-1) + fib(n-2)\n",
        "    \n",
        "fib(35)"
      ],
      "execution_count": null,
      "outputs": [
        {
          "output_type": "execute_result",
          "data": {
            "text/plain": [
              "9227465"
            ]
          },
          "metadata": {
            "tags": []
          },
          "execution_count": 16
        }
      ]
    },
    {
      "cell_type": "code",
      "metadata": {
        "id": "GHEgNuOLjMqs",
        "colab": {
          "base_uri": "https://localhost:8080/",
          "height": 119
        },
        "outputId": "6fcf7753-98df-40e2-bc7d-91e9d10e0058"
      },
      "source": [
        "# tarea 9 de coursera python sumar los primeros 50 números pares hasta 100\n",
        "# suma de gauss\n",
        "a,p,i=0,0,0\n",
        " \n",
        "while a <= 100:\n",
        "   if a%2 == 0:\n",
        "     p += a\n",
        "   else:\n",
        "     i += a\n",
        "   a += 1\n",
        "print(\"\\n la suma de los pares es igual a =\", p)\n",
        "print(\"\\n la suma de los impares es igual b =\", i)\n",
        "print(\"\\n el total es igual a\", p+i)"
      ],
      "execution_count": null,
      "outputs": [
        {
          "output_type": "stream",
          "text": [
            "\n",
            " la suma de los pares es igual a = 2550\n",
            "\n",
            " la suma de los impares es igual b = 2500\n",
            "\n",
            " el total es igual a 5050\n"
          ],
          "name": "stdout"
        }
      ]
    },
    {
      "cell_type": "code",
      "metadata": {
        "id": "aaIldutv7Vts",
        "colab": {
          "base_uri": "https://localhost:8080/",
          "height": 34
        },
        "outputId": "fe9de9ca-2798-41e7-93f8-b92ece267fd4"
      },
      "source": [
        "# tarea 10 de coursera python \n",
        "def es_primo(numero):\n",
        "   resultado = True\n",
        "   for divisor in range(2, numero):\n",
        "       if (numero % divisor) == 0:\n",
        "           resultado = False\n",
        "           break\n",
        "\n",
        "   return resultado\n",
        "\n",
        "es_primo(13)\n",
        "# la respuesta es 11 interacciones hace el ciclo for solo colocar 11."
      ],
      "execution_count": null,
      "outputs": [
        {
          "output_type": "execute_result",
          "data": {
            "text/plain": [
              "True"
            ]
          },
          "metadata": {
            "tags": []
          },
          "execution_count": 48
        }
      ]
    },
    {
      "cell_type": "code",
      "metadata": {
        "id": "FKCENObvfPdh",
        "colab": {
          "base_uri": "https://localhost:8080/",
          "height": 34
        },
        "outputId": "eac9955a-f093-42ca-fb9c-3843fe890fe2"
      },
      "source": [
        "# tarea 11 de coursera python \n",
        "\n",
        "class SumaDos:\n",
        "  def __init__(self, datos):\n",
        "       self.datos = datos\n",
        "       self.indice = 0\n",
        "  def __iter__(self):\n",
        "       return self\n",
        "  def __next__(self):\n",
        "       if self.indice == len(self.datos):\n",
        "           raise StopIteration()\n",
        "       elemento = self.datos[self.indice] + 2\n",
        "       self.indice += 1\n",
        "       return elemento\n",
        "\n",
        "list(SumaDos([1,2,3,4,5]))"
      ],
      "execution_count": null,
      "outputs": [
        {
          "output_type": "execute_result",
          "data": {
            "text/plain": [
              "[3, 4, 5, 6, 7]"
            ]
          },
          "metadata": {
            "tags": []
          },
          "execution_count": 14
        }
      ]
    },
    {
      "cell_type": "code",
      "metadata": {
        "id": "RQ7vpy0pLftO",
        "colab": {
          "base_uri": "https://localhost:8080/",
          "height": 136
        },
        "outputId": "aa81b55c-9179-4469-8a3b-a6664791f29b"
      },
      "source": [
        "# tarea 12 de coursera python \n",
        "# juego de dados.\n",
        "import random\n",
        "print(\"primera ronda lanzada\")\n",
        "x=random.choices([1,2,3,4,5,6],k=2)\n",
        "print(x)\n",
        "print(sum(x))\n",
        "numero=int(input(\"Desea lanzar los dados de nuevo (1)si ,(2)no: \"))\n",
        "if (numero==1):\n",
        "    x=random.choices([1,2,3,4,5,6],k=2)\n",
        "    print(x)\n",
        "    print(sum(x))\n",
        "else :\n",
        "  print(\"gracias por jugar\")\n",
        "print(\"¡Hasta la próxima!\")\n",
        " "
      ],
      "execution_count": null,
      "outputs": [
        {
          "output_type": "stream",
          "text": [
            "primera ronda lanzada\n",
            "[2, 2]\n",
            "4\n",
            "Desea lanzar los dados de nuevo (1)si ,(2)no: 1\n",
            "[1, 4]\n",
            "5\n",
            "¡Hasta la próxima!\n"
          ],
          "name": "stdout"
        }
      ]
    },
    {
      "cell_type": "code",
      "metadata": {
        "id": "e8N69U1batBS",
        "colab": {
          "base_uri": "https://localhost:8080/",
          "height": 34
        },
        "outputId": "a10082d1-23f1-41a7-eb61-8a235a67ce9c"
      },
      "source": [
        "def sum(*args):\n",
        "    value = 0\n",
        "    for n in args:\n",
        "        value += n\n",
        "    return value\n",
        "    print()\n",
        "sum(2, 5, 4)"
      ],
      "execution_count": null,
      "outputs": [
        {
          "output_type": "execute_result",
          "data": {
            "text/plain": [
              "11"
            ]
          },
          "metadata": {
            "tags": []
          },
          "execution_count": 11
        }
      ]
    }
  ]
}